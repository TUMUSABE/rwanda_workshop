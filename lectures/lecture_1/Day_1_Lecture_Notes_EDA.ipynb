{
 "cells": [
  {
   "cell_type": "markdown",
   "metadata": {
    "slideshow": {
     "slide_type": "slide"
    }
   },
   "source": [
    "# Exploratory Data Analysis and Regression\n",
    "## Introduction to Data Science\n",
    "### Kigali, Rwanda\n",
    "### July 8th, 2019\n",
    "\n",
    "\n",
    "#### Import libraries"
   ]
  },
  {
   "attachments": {},
   "cell_type": "markdown",
   "metadata": {
    "slideshow": {
     "slide_type": "slide"
    }
   },
   "source": [
    "<img src=\"fig/logos.jpg\">"
   ]
  },
  {
   "cell_type": "markdown",
   "metadata": {
    "slideshow": {
     "slide_type": "slide"
    }
   },
   "source": [
    "## What is this course?\n",
    "This is a 5 day short workshop on the ***practical*** fundamentals of data science using python. \n",
    "\n",
    "This workshop will cover a variety of models solving a range of different data science tasks; it will familiarize participants with useful `python` libraries for data science."
   ]
  },
  {
   "cell_type": "markdown",
   "metadata": {
    "slideshow": {
     "slide_type": "slide"
    }
   },
   "source": [
    "## What is the structure of each day?\n",
    "\n",
    "Each session of the workshop is 4 hours. Roughly half of which will be lecture and half will be hands-on exercises.\n",
    "\n",
    "You will work in groups during class to complete coding exercises solving problems involving ***real*** data."
   ]
  },
  {
   "cell_type": "markdown",
   "metadata": {
    "slideshow": {
     "slide_type": "slide"
    }
   },
   "source": [
    "## What is expected of the participants?\n",
    "\n",
    "This workshop involves a great deal of programming and requires a intuitive but sound understanding of the mathematical or statistical theory behind machine learning models.\n",
    "\n",
    "To be successful, participants need to have some previous experience with programming as well as basic statistics; participants need to be committed to gaining a working knowledge of `python` during the workshop."
   ]
  },
  {
   "cell_type": "markdown",
   "metadata": {
    "slideshow": {
     "slide_type": "slide"
    }
   },
   "source": [
    "## How is the workshop graded?\n",
    "\n",
    "Participants are recommended to complete all in-class exercises as homework. \n",
    "\n",
    "There will be an in-class, 4-hour, open-book exam on Day 5. The exam will require participants to solve a data science task using a real-data set and will be based on the skills demonstrated in the in-class exercises."
   ]
  },
  {
   "cell_type": "markdown",
   "metadata": {
    "slideshow": {
     "slide_type": "slide"
    }
   },
   "source": [
    "## More information about the course\n",
    "\n",
    "All materials and information can be found at the course website:\n",
    "```\n",
    "https://github.com/onefishy/rwanda_workshop\n",
    "```"
   ]
  },
  {
   "cell_type": "markdown",
   "metadata": {
    "slideshow": {
     "slide_type": "slide"
    }
   },
   "source": [
    "# Introduction to Data Science"
   ]
  },
  {
   "cell_type": "markdown",
   "metadata": {
    "slideshow": {
     "slide_type": "slide"
    }
   },
   "source": [
    "## Outline\n",
    "1. What Is Data?\n",
    "2. What is Data Science?\n",
    "3. Exploring Data\n",
    "  - Descriptive Statistics\n",
    "  - Data Visualization\n",
    "4. Data Science Tools"
   ]
  },
  {
   "cell_type": "markdown",
   "metadata": {
    "slideshow": {
     "slide_type": "slide"
    }
   },
   "source": [
    "# What is Data?"
   ]
  },
  {
   "cell_type": "markdown",
   "metadata": {
    "slideshow": {
     "slide_type": "slide"
    }
   },
   "source": [
    "## What is Data?\n",
    "\n",
    "*“A **datum** is a single measurement of something on a scale that is understandable to both the recorder and the reader. **Data** is multiple such measurements.”*\n",
    "\n",
    "**Claim:** everything is (can be) data!\n",
    "\n",
    "<img src=\"fig/fig1.jpg\" style=\"height:300px;\">"
   ]
  },
  {
   "cell_type": "markdown",
   "metadata": {
    "slideshow": {
     "slide_type": "slide"
    }
   },
   "source": [
    "# What is Data Science"
   ]
  },
  {
   "cell_type": "markdown",
   "metadata": {
    "slideshow": {
     "slide_type": "slide"
    }
   },
   "source": [
    "## What Does it Mean to Do Data Science?\n",
    "The \"data science\" process.\n",
    "\n",
    "1. Find a problem you want to solve\n",
    "2. Collection data you think will help solve it\n",
    "3. Exploration Data Analysis: \n",
    "  - examine your data for patterns and trends.\n",
    "4. Build mathematical models to describe trends and patterns\n",
    "5. Analyze your model\n",
    "  - What does it say about your data?\n",
    "  - How do your finding help solve your problem?\n",
    "6. Visualization and Presentation of Results\n",
    "\n",
    "**Note:** This process is not linear!"
   ]
  },
  {
   "cell_type": "markdown",
   "metadata": {
    "slideshow": {
     "slide_type": "slide"
    }
   },
   "source": [
    "## Where Does Data Come From?\n",
    "\n",
    "**Internal sources:** already collected by or is part of the overall data collection of you organization.\n",
    "\n",
    "**Existing External Sources:** available in ready to read format from an outside source for free or for a fee.\n",
    "\n",
    "**External Sources Requiring Collection Efforts:** available from external source but acquisition requires special processing."
   ]
  },
  {
   "cell_type": "markdown",
   "metadata": {
    "slideshow": {
     "slide_type": "slide"
    }
   },
   "source": [
    "## What Does Data Look Like?\n",
    "\n",
    "Simple or atomic data:\n",
    " - **Numeric:** integers, floats\n",
    " - **Boolean:** binary or true false values \n",
    " - **Strings:** sequence of symbols"
   ]
  },
  {
   "cell_type": "markdown",
   "metadata": {
    "slideshow": {
     "slide_type": "slide"
    }
   },
   "source": [
    "## What Does Data Look Like?\n",
    "\n",
    "Compound, composed of a bunch of atomic types:\n",
    " - **Date and time:** compound value with a specific structure\n",
    " - **Lists:** a list is a sequence of values\n",
    " - **Dictionaries:** collections of key-value pairs, a pair of values `x : y`, where x is usually a string called key representing the \"name\" of the value, and y is a value of any type.\n",
    " \n",
    "   **Example:** Student record\n",
    "      - First: Weiwei\n",
    "      - Last: Pan\n",
    "      - Nationality: USA"
   ]
  },
  {
   "cell_type": "markdown",
   "metadata": {
    "slideshow": {
     "slide_type": "slide"
    }
   },
   "source": [
    "## How is your data represented and stored?\n",
    "\n",
    "Data formats:\n",
    " - **Tabular Data:** a dataset that is a two-dimensional table, where each row typically represents a single data record, and each column represents one type of measurement (csv, xlsx etc.).\n",
    "\n",
    "- **Structured Data:** each data record is presented in a form of a, possibly complex and multi-tiered, dictionary (json, xml etc.)\n",
    "\n",
    "- **Semistructured Data:** not all records are represented by the same set of keys or some data records are not represented using the key-value pair structure."
   ]
  },
  {
   "cell_type": "markdown",
   "metadata": {
    "slideshow": {
     "slide_type": "slide"
    }
   },
   "source": [
    "## Tabular Data\n",
    "In tabular data, each row or ***observation*** represents a set of measurements of a single object or event.\n",
    "\n",
    "<img src=\"fig/fig2.jpg\">\n",
    "\n",
    "Each type of measurement is an ***attribute*** of the data. The number of attributes is the ***dimension*** of the data."
   ]
  },
  {
   "cell_type": "markdown",
   "metadata": {
    "slideshow": {
     "slide_type": "slide"
    }
   },
   "source": [
    "## Types of Attributes in Tabular Data\n",
    "It’s vital to distinguish between classes of attributes based on the type of values they take on.\n",
    "- **Quantitative attribute:** a real valued number whose values can be ordered.\n",
    "\n",
    "   **Example:** Height is a quantitative attribute\n",
    "<br><br>\n",
    "- **Categorical attribute:** a real valued or string with no inherent order among the values.\n",
    "\n",
    "   **Example:** “What kind of pet you have” is a categorical attribute"
   ]
  },
  {
   "cell_type": "markdown",
   "metadata": {
    "slideshow": {
     "slide_type": "slide"
    }
   },
   "source": [
    "## Is the data any good?\n",
    "\n",
    "- **Missing values:** how do we fill in?\n",
    "- **Wrong values:** how can we detect and correct?\n",
    "- **Messy format:** how can we convert structured or semistructured data into tabular data?\n",
    "- **Not usable:** what if the data cannot answer the question posed?"
   ]
  },
  {
   "cell_type": "markdown",
   "metadata": {
    "slideshow": {
     "slide_type": "slide"
    }
   },
   "source": [
    "# Exploring Data"
   ]
  },
  {
   "cell_type": "markdown",
   "metadata": {
    "slideshow": {
     "slide_type": "slide"
    }
   },
   "source": [
    "## Describing Individual Attributes\n",
    "\n",
    "Given a large dataset, we want to compute a few quantities that intuitively summarizes the data. We’d like to know:\n",
    "\n",
    "1. what are \"typical\" values for our attributes? \n",
    "2. how \"representative\" are these typical values?\n",
    "\n"
   ]
  },
  {
   "cell_type": "markdown",
   "metadata": {
    "slideshow": {
     "slide_type": "slide"
    }
   },
   "source": [
    "## Describing A Typical Value\n",
    "We can describe a typical value for $n$ samples of a **quantitative** attribute $x$ by the ***mean*** or the ***median***.\n",
    "\n",
    "<img src=\"fig/fig3.jpg\" style=\"height:300px;\">"
   ]
  },
  {
   "cell_type": "markdown",
   "metadata": {
    "slideshow": {
     "slide_type": "slide"
    }
   },
   "source": [
    "## Describing A Typical Value\n",
    "We can describe a typical value for $n$ samples of a **categorical** attribute $x$ by the ***mode***.\n",
    "\n",
    "<img src=\"fig/fig4.jpg\" style=\"height:300px;\">"
   ]
  },
  {
   "cell_type": "markdown",
   "metadata": {
    "slideshow": {
     "slide_type": "slide"
    }
   },
   "source": [
    "## Describing the Spread of a Value\n",
    "\n",
    "The spread of samples measures how well the mean or median describes the sample set:\n",
    "\n",
    "1. ***Range***\n",
    "2. ***Standard variance***\n",
    "3. ***Standard deviation***\n"
   ]
  },
  {
   "cell_type": "markdown",
   "metadata": {
    "slideshow": {
     "slide_type": "slide"
    }
   },
   "source": [
    "## Why Data Visualization?\n",
    "\n",
    "The following is called Anscombe’s Quartet; all four sets of data have identical simple summary statistics.\n",
    "\n",
    "<img src=\"fig/fig5.jpg\" style=\"height:300px;\">\n"
   ]
  },
  {
   "cell_type": "markdown",
   "metadata": {
    "slideshow": {
     "slide_type": "slide"
    }
   },
   "source": [
    "## Anscombe's Quartet\n",
    "\n",
    "The following is called Anscombe’s Quartet; all four sets of data have identical simple summary statistics.\n",
    "\n",
    "<img src=\"fig/fig6.jpg\" style=\"height:300px;\">\n",
    "\n"
   ]
  },
  {
   "cell_type": "markdown",
   "metadata": {
    "slideshow": {
     "slide_type": "slide"
    }
   },
   "source": [
    "## Why Data Visualization?\n",
    "\n",
    "If I tell you that the average score for the final examis: 7.64/15. \n",
    "\n",
    "What does that suggest?"
   ]
  },
  {
   "cell_type": "markdown",
   "metadata": {
    "slideshow": {
     "slide_type": "slide"
    }
   },
   "source": [
    "## Why Data Visualization?\n",
    "\n",
    "If I then show you the following graph, what does it suggest?\n",
    "\n",
    "<img src=\"fig/fig7.jpg\" style=\"height:300px;\">"
   ]
  },
  {
   "cell_type": "markdown",
   "metadata": {
    "slideshow": {
     "slide_type": "slide"
    }
   },
   "source": [
    "## What is Data Visualization Good For?\n",
    "\n",
    "Analyze:\n",
    "- Identify hidden patterns and trends\n",
    "- Help formulate/test hypothese\n",
    "- Help determine the next step in analysis/modeling"
   ]
  },
  {
   "cell_type": "markdown",
   "metadata": {
    "slideshow": {
     "slide_type": "slide"
    }
   },
   "source": [
    "## What is Data Visualization Good For?\n",
    "Communicate:\n",
    "- Present information and ideas succinctly \n",
    "- Provide evidence and support\n",
    "- Influence and persuade"
   ]
  },
  {
   "cell_type": "markdown",
   "metadata": {
    "slideshow": {
     "slide_type": "slide"
    }
   },
   "source": [
    "## Types of Data Visualization\n",
    "\n",
    "What do you want your visualization to show about your data?\n",
    "- **Distribution:** how a variable or variables in the dataset distribute over a range of possible values.\n",
    "- **Relationship:** how the values of multiple variables in the dataset relate\n",
    "- **Composition:** how the dataset breaks down into subgroups\n",
    "- **Comparison:** how trends in multiple variable or datasets compare"
   ]
  },
  {
   "cell_type": "markdown",
   "metadata": {
    "slideshow": {
     "slide_type": "slide"
    }
   },
   "source": [
    "## Visualizing Distributions\n",
    "\n",
    "A ***histogram*** is a way to visualize how a **quantitative** attribute is distributed across certain values.\n",
    "\n",
    "\n",
    "<img src=\"fig/fig8.jpg\" style=\"height:120px;\">\n",
    "\n",
    "**Note:** Trends in histograms are sensitive to number of bins."
   ]
  },
  {
   "cell_type": "markdown",
   "metadata": {
    "slideshow": {
     "slide_type": "slide"
    }
   },
   "source": [
    "## Visualizing Distributions\n",
    "\n",
    "A ***bar chart*** is a way to visualize how a **categorical** attribute is distributed across certain values.\n",
    "\n",
    "\n",
    "<img src=\"fig/fig4.jpg\" style=\"height:300px;\">"
   ]
  },
  {
   "cell_type": "markdown",
   "metadata": {
    "slideshow": {
     "slide_type": "slide"
    }
   },
   "source": [
    "## Visualizing Relationships\n",
    "\n",
    "A ***scatter plot*** is a way to visualize the relationship between two different attributes.\n",
    "\n",
    "<img src=\"fig/fig9.jpg\" style=\"height:300px;\">"
   ]
  },
  {
   "cell_type": "markdown",
   "metadata": {
    "slideshow": {
     "slide_type": "slide"
    }
   },
   "source": [
    "## Visualizing Comparisons of Subgroups \n",
    "\n",
    "Plotting multiple histograms or curves on the same axes is a way to visualize how different subgroups of data compare.\n",
    "\n",
    "**For example:** the following are the blood-glucose distributions of three subgroups within the dataset.\n",
    "\n",
    "<img src=\"fig/fig10.jpg\" style=\"height:300px;\">"
   ]
  },
  {
   "cell_type": "markdown",
   "metadata": {
    "slideshow": {
     "slide_type": "slide"
    }
   },
   "source": [
    "## Generating Hypothese\n",
    "\n",
    "We can see that birth weight is positively correlated with femur length.\n",
    "\n",
    "<img src=\"fig/fig11.jpg\" style=\"height:200px;\">\n",
    "\n",
    "Can we describe exactly how they are correlated?"
   ]
  },
  {
   "cell_type": "markdown",
   "metadata": {
    "slideshow": {
     "slide_type": "slide"
    }
   },
   "source": [
    "## Generating Hypothese\n",
    "We can see that types of iris seem to be distinguished by petal and sepal lengths.\n",
    "\n",
    "<img src=\"fig/fig12.jpg\" style=\"height:300px;\">\n",
    "\n",
    "Can we predict the type of iris given petal and sepal lengths?"
   ]
  },
  {
   "cell_type": "markdown",
   "metadata": {
    "slideshow": {
     "slide_type": "slide"
    }
   },
   "source": [
    "# Data Science Tools"
   ]
  },
  {
   "cell_type": "markdown",
   "metadata": {
    "slideshow": {
     "slide_type": "slide"
    }
   },
   "source": [
    "## Tools for the Workshop\n",
    "\n",
    "In this workshop, we will be using `python`, for which there are many robust and well documented libraries for machine learning and data science.\n",
    "\n",
    "Specifically, we will use\n",
    "1. `colab notebook` - a Google web app for creating interactive document containing text, equations, live code and outputs.\n",
    "2. `pandas` - a `python` library for reading and manipulating data\n",
    "3. `matplotlib` - a `python` library for data visualization\n",
    "4. `numpy` - a `python` library for manipulating numeric data\n",
    "5. `scikit-learn` - a `python` library with many machine learning models\n",
    "6. `keras` - a `python` library for deep learning\n"
   ]
  },
  {
   "cell_type": "markdown",
   "metadata": {
    "slideshow": {
     "slide_type": "slide"
    }
   },
   "source": [
    "# `colab` Notebooks"
   ]
  },
  {
   "cell_type": "markdown",
   "metadata": {
    "slideshow": {
     "slide_type": "slide"
    }
   },
   "source": [
    "## What Does Colab Notebook Look Like?\n",
    "\n",
    "Go to `https://colab.research.google.com/`\n",
    "\n",
    "<img src=\"fig/fig13.jpg\" style=\"height:300px;\">"
   ]
  },
  {
   "cell_type": "markdown",
   "metadata": {
    "slideshow": {
     "slide_type": "slide"
    }
   },
   "source": [
    "## What Does Colab Notebook Look Like?\n",
    "\n",
    "Each notebook consists of blocks of cells. Each cell can be of two types:  (1) rich text (Markdown) cells or (2) code cells. \n",
    "\n",
    "<img src=\"fig/fig14.jpg\" style=\"height:200px;\">"
   ]
  },
  {
   "cell_type": "markdown",
   "metadata": {
    "slideshow": {
     "slide_type": "slide"
    }
   },
   "source": [
    "## What Does Colab Notebook Look Like?\n",
    "\n",
    "Code is executed by an \"computational engine\" called the ***kernel*** (IPython). The output of the code is displayed directly below.. \n",
    "\n",
    "<img src=\"fig/fig15.jpg\" style=\"height:250px;\">"
   ]
  },
  {
   "cell_type": "markdown",
   "metadata": {
    "slideshow": {
     "slide_type": "slide"
    }
   },
   "source": [
    "## What Does Colab Notebook Look Like?\n",
    "\n",
    "Each cell can be executed independently, but once a block of code is executed, it lives in the memory of the kernel.\n",
    "\n",
    "<img src=\"fig/fig16.jpg\" style=\"height:200px;\">"
   ]
  },
  {
   "cell_type": "markdown",
   "metadata": {
    "slideshow": {
     "slide_type": "slide"
    }
   },
   "source": [
    "# General Introduction to `python`"
   ]
  },
  {
   "cell_type": "markdown",
   "metadata": {
    "slideshow": {
     "slide_type": "slide"
    }
   },
   "source": [
    "## What Does Python Look Like?\n",
    "\n",
    "Code readability is key, Python syntax itself is close to plain english.\n",
    "\n",
    "Your variables should be given descriptive identifiers!\n",
    "\n",
    "<img src=\"fig/fig17.jpg\" style=\"height:100px;\">\n",
    "\n",
    "Identifiers for variable should be descriptive words separated by underscore (not spaces) and in all lower case."
   ]
  },
  {
   "cell_type": "markdown",
   "metadata": {
    "slideshow": {
     "slide_type": "slide"
    }
   },
   "source": [
    "## What Does Python Look Like?\n",
    "\n",
    "You should use white space to increase readability.\n",
    "\n",
    "<img src=\"fig/fig18.jpg\" style=\"height:100px;\">\n"
   ]
  },
  {
   "cell_type": "markdown",
   "metadata": {
    "slideshow": {
     "slide_type": "slide"
    }
   },
   "source": [
    "## What Does Python Look Like?\n",
    "\n",
    "You should liberally intersperse your code with comments!\n",
    "\n",
    "<img src=\"fig/fig19.jpg\" style=\"height:100px;\">"
   ]
  },
  {
   "cell_type": "markdown",
   "metadata": {
    "slideshow": {
     "slide_type": "slide"
    }
   },
   "source": [
    "## What Does Python Look Like?\n",
    "\n",
    "Proper indentation is non-negotiable!\n",
    "\n",
    "<img src=\"fig/fig20.jpg\" style=\"height:100px;\">\n",
    "\n",
    "Code blocks are not indicated by delimiters (e.g. `{` `}`) only by indentation!"
   ]
  },
  {
   "cell_type": "markdown",
   "metadata": {
    "slideshow": {
     "slide_type": "slide"
    }
   },
   "source": [
    "## Python Data Types\n",
    "The basic built-in Python data types we’ll be using today are:\n",
    "1. **integers, floating points:** `7`, `7.0`\n",
    "2. **booleans:** `True`, `False`\n",
    "3. **strings:** `'hi'`, `\"7.0\"`\n",
    "4. **lists:** `['hi', False, 7]`"
   ]
  },
  {
   "cell_type": "markdown",
   "metadata": {
    "slideshow": {
     "slide_type": "slide"
    }
   },
   "source": [
    "## Variables and Assignment\n",
    "In `python` the type of variables is inferred based on the valued assigned to the variable.\n",
    "For example: The assignment\n",
    "```python\n",
    "my_var = 7\n",
    "```\n",
    "types `my_var` as an integer. Later, the assignment\n",
    "```python\n",
    "my_var = 'hello'\n",
    "```\n",
    "will cause `my_var` to be typed as a string."
   ]
  },
  {
   "cell_type": "markdown",
   "metadata": {
    "slideshow": {
     "slide_type": "slide"
    }
   },
   "source": [
    "## Learning `python`\n",
    "\n",
    "The course website contains readings, cheatsheets and tutorials for mastering general `python` programming as well as using `python` libraries for data manipulation/visualization.\n",
    "\n",
    "**Tips for learning a programmming language:**\n",
    "1. Don't read code line by line (at first)\n",
    "2. Copy as much as possible (learn patterns and templates)\n",
    "3. Don't be afriad to play (trial and error)\n",
    "4. Read documentation!"
   ]
  },
  {
   "cell_type": "markdown",
   "metadata": {
    "slideshow": {
     "slide_type": "slide"
    }
   },
   "source": [
    "# `pandas`: Reading and Manipulating Data"
   ]
  },
  {
   "cell_type": "markdown",
   "metadata": {
    "slideshow": {
     "slide_type": "slide"
    }
   },
   "source": [
    "## `pandas`\n",
    "\n",
    "`pandas` provides ways of storing tabular data along with labels on the rows and columns.\n",
    "\n",
    "To use any `python` library, we must include the line\n",
    "```python\n",
    "import pandas as pd\n",
    "```\n",
    "\n",
    "After which we may use any function or object in this library using for example, `pd.Series()`.\n"
   ]
  },
  {
   "cell_type": "markdown",
   "metadata": {
    "slideshow": {
     "slide_type": "slide"
    }
   },
   "source": [
    "## `pandas` Series\n",
    "\n",
    "The `pandas` Series object stores a 1D array of data with an index object (labels).\n",
    "\n",
    "<img src=\"fig/fig21.jpg\" style=\"height:300px;\">"
   ]
  },
  {
   "cell_type": "markdown",
   "metadata": {
    "slideshow": {
     "slide_type": "slide"
    }
   },
   "source": [
    "## `pandas` Series\n",
    "Each `pandas` series has a `.values` and an `.index` attribute.\n",
    "\n",
    "<img src=\"fig/fig22.jpg\" style=\"height:200px;\">"
   ]
  },
  {
   "cell_type": "markdown",
   "metadata": {
    "slideshow": {
     "slide_type": "slide"
    }
   },
   "source": [
    "## `pandas` DataFrames\n",
    "\n",
    "The `pandas` DataFrame object stores a 2D table of data with column and row index object (labels).\n",
    "\n",
    "<img src=\"fig/fig23.jpg\" style=\"height:200px;\">\n",
    "\n",
    "Each column in the data frame is a series."
   ]
  },
  {
   "cell_type": "markdown",
   "metadata": {
    "slideshow": {
     "slide_type": "slide"
    }
   },
   "source": [
    "## Reading Data with `pandas`\n",
    "\n",
    "We can import tabular data in a csv file into a data frame:\n",
    "\n",
    "<img src=\"fig/fig24.jpg\" style=\"height:200px;\">"
   ]
  },
  {
   "cell_type": "markdown",
   "metadata": {
    "slideshow": {
     "slide_type": "slide"
    }
   },
   "source": [
    "## Basic Data Exploration with `pandas`\n",
    "\n",
    "We should start by checking how large is the data.\n",
    "\n",
    "We do this by checking the shape of the DataFrame.\n",
    "\n",
    "<img src=\"fig/fig26.jpg\" style=\"height:150px;\">"
   ]
  },
  {
   "cell_type": "markdown",
   "metadata": {
    "slideshow": {
     "slide_type": "slide"
    }
   },
   "source": [
    "## Basic Data Exploration with `pandas`\n",
    "\n",
    "We should start by getting a rough sense of what’s in the data.\n",
    "\n",
    "<img src=\"fig/fig25.jpg\" style=\"height:250px;\">"
   ]
  },
  {
   "cell_type": "markdown",
   "metadata": {
    "slideshow": {
     "slide_type": "slide"
    }
   },
   "source": [
    "## Basic Data Exploration with `pandas`\n",
    "\n",
    "The `.head()` function returns the first `N` rows of your data frame!\n",
    "\n",
    "<img src=\"fig/fig27.jpg\" style=\"height:250px;\">"
   ]
  },
  {
   "cell_type": "markdown",
   "metadata": {
    "slideshow": {
     "slide_type": "slide"
    }
   },
   "source": [
    "## Basic Data Exploration with `pandas`\n",
    "\n",
    "The `.describe()` function returns the descriptive stats for each numeric column as a data frame object!\n",
    "\n",
    "<img src=\"fig/fig28.jpg\" style=\"height:300px;\">"
   ]
  },
  {
   "cell_type": "markdown",
   "metadata": {
    "slideshow": {
     "slide_type": "slide"
    }
   },
   "source": [
    "## Basic Data Manipulation with `pandas`\n",
    "\n",
    "Accessing a column by label:\n",
    "\n",
    "<img src=\"fig/fig29.jpg\" style=\"height:200px;\">"
   ]
  },
  {
   "cell_type": "markdown",
   "metadata": {
    "slideshow": {
     "slide_type": "slide"
    }
   },
   "source": [
    "## Basic Data Manipulation with `pandas`\n",
    "\n",
    "Accessing columns by label:\n",
    "\n",
    "<img src=\"fig/fig30.jpg\" style=\"height:200px;\">"
   ]
  },
  {
   "cell_type": "markdown",
   "metadata": {
    "slideshow": {
     "slide_type": "slide"
    }
   },
   "source": [
    "## Basic Data Manipulation with `pandas`\n",
    "\n",
    "Accessing columns by criteria (***filtering***):\n",
    "\n",
    "<img src=\"fig/fig31.jpg\" style=\"height:300px;\">"
   ]
  },
  {
   "cell_type": "markdown",
   "metadata": {
    "slideshow": {
     "slide_type": "slide"
    }
   },
   "source": [
    "## Basic Data Transformation with `pandas`\n",
    "\n",
    "Since machine learning models are mathematical functions (i.e. require numerical input), what do we do with categorical attributes?\n",
    "\n",
    "We encode them as numerical vectors, whose position encodes for the possible values of the attribute. This is called ***one-hot encoding***. Why can't we encode them as integers?\n",
    "\n",
    "<img src=\"fig/fig39.jpg\" style=\"height:300px;\">"
   ]
  },
  {
   "cell_type": "markdown",
   "metadata": {
    "slideshow": {
     "slide_type": "slide"
    }
   },
   "source": [
    "## Basic Data Transformation with `pandas`\n",
    "\n",
    "One-hot encoding in `pandas`.\n",
    "\n",
    "```python\n",
    "# convert categorical columns to numerical columns by one-hot encoding\n",
    "one_hot_categorical = pd.get_dummies(df_categorical_columns, prefix=df_categorical_columns.columns)\n",
    "```"
   ]
  },
  {
   "cell_type": "markdown",
   "metadata": {
    "slideshow": {
     "slide_type": "slide"
    }
   },
   "source": [
    "## Exercise: Perform EDA on the Berlin Airbnb Dataset\n",
    "\n",
    "Today we will be working with a real data set: the Berlin Airbnb Dataset.\n",
    "\n",
    "Find the link to this notebook on the workshop website:\n",
    "```\n",
    "https://github.com/onefishy/rwanda_workshop\n",
    "```\n"
   ]
  }
 ],
 "metadata": {
  "celltoolbar": "Slideshow",
  "kernelspec": {
   "display_name": "Python 3",
   "language": "python",
   "name": "python3"
  },
  "language_info": {
   "codemirror_mode": {
    "name": "ipython",
    "version": 3
   },
   "file_extension": ".py",
   "mimetype": "text/x-python",
   "name": "python",
   "nbconvert_exporter": "python",
   "pygments_lexer": "ipython3",
   "version": "3.7.3"
  }
 },
 "nbformat": 4,
 "nbformat_minor": 2
}
